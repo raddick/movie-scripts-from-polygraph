{
 "cells": [
  {
   "cell_type": "code",
   "execution_count": null,
   "metadata": {
    "collapsed": false
   },
   "outputs": [],
   "source": [
    "import json\n",
    "import io\n",
    "from pprint import pprint\n",
    "import re\n",
    "print('Imported!')"
   ]
  },
  {
   "cell_type": "code",
   "execution_count": null,
   "metadata": {
    "collapsed": false
   },
   "outputs": [],
   "source": [
    "with io.open('scripts.json', 'r', encoding='utf-8') as f:\n",
    "    scripts = json.load(f)\n",
    "print('ok')"
   ]
  },
  {
   "cell_type": "code",
   "execution_count": null,
   "metadata": {
    "collapsed": false
   },
   "outputs": [],
   "source": [
    "htmltag = re.compile('</*[a-z]>|.href')\n",
    "firstword = re.compile('\\w+ ?')\n",
    "\n",
    "lines = []\n",
    "thisline = ''\n",
    "got_title = False\n",
    "for char in scripts[0]['script_text']:\n",
    "    if (char not in ['\\n', '\\r']):\n",
    "        thisline = thisline + char\n",
    "    elif (len(thisline) > 0): #& (re.search(htmltag, thisline) == None)):        \n",
    "        if (re.search(htmltag, thisline) == None):\n",
    "            if (thisline.isupper()):\n",
    "                if (not(got_title)):\n",
    "                    scripts[0]['parsed_title'] = thisline\n",
    "                    got_title = True\n",
    "#                else:\n",
    "#                    print('!!!', thisline, '!!!')\n",
    "            if (re.search(firstword, thisline) != None):\n",
    "                if (thisline[0:re.search(firstword, thisline).end()].strip().isupper()):\n",
    "                    print(thisline[0:re.search(firstword, thisline).end()].strip())\n",
    "                #if (firstword.isupper()):\n",
    "                #    print(firstword)\n",
    "            lines.append(thisline.strip())\n",
    "        thisline = ''\n",
    "    else:\n",
    "        pass\n",
    "\n",
    "#for i in range(0, len(lines)):\n",
    "#    print(i, \":\", lines[i])\n",
    "\n"
   ]
  },
  {
   "cell_type": "code",
   "execution_count": null,
   "metadata": {
    "collapsed": true
   },
   "outputs": [],
   "source": []
  }
 ],
 "metadata": {
  "kernelspec": {
   "display_name": "Python 3",
   "language": "python",
   "name": "python3"
  },
  "language_info": {
   "codemirror_mode": {
    "name": "ipython",
    "version": 3
   },
   "file_extension": ".py",
   "mimetype": "text/x-python",
   "name": "python",
   "nbconvert_exporter": "python",
   "pygments_lexer": "ipython3",
   "version": "3.5.3"
  }
 },
 "nbformat": 4,
 "nbformat_minor": 0
}
