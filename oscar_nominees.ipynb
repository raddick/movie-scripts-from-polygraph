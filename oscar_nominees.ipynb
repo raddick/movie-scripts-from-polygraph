{
 "cells": [
  {
   "cell_type": "code",
   "execution_count": null,
   "metadata": {
    "collapsed": false
   },
   "outputs": [],
   "source": [
    "import numpy as np\n",
    "import pandas\n",
    "import matplotlib.pyplot as plt\n",
    "import matplotlib.ticker as ticker\n",
    "import os\n",
    "df = pandas.read_csv('character_list5.csv', encoding='iso-8859-1')\n",
    "df.index.name = 'row'\n",
    "df.head(10)"
   ]
  },
  {
   "cell_type": "code",
   "execution_count": null,
   "metadata": {
    "collapsed": false
   },
   "outputs": [],
   "source": [
    "movies_df = df.groupby('script_id', as_index=False)['words'].sum()\n",
    "f_movies_df = df[df['gender'] == 'f'].groupby('script_id', as_index=False)['words'].sum()\n",
    "m_movies_df = df[df['gender'] == 'm'].groupby('script_id', as_index=False)['words'].sum()\n",
    "\n",
    "f_movies_df = f_movies_df.rename(columns={'words': 'words_f'})\n",
    "m_movies_df= m_movies_df.rename(columns={'words': 'words_m'})\n",
    "\n",
    "movies_df = movies_df.set_index('script_id')\n",
    "f_movies_df = f_movies_df.set_index('script_id')\n",
    "m_movies_df = m_movies_df.set_index('script_id')\n",
    "\n",
    "movies_df = movies_df.join(m_movies_df)\n",
    "movies_df = movies_df.join(f_movies_df)\n",
    "movies_df['pct_m'] = movies_df['words_m'] / movies_df['words']\n",
    "movies_df['pct_f'] = movies_df['words_f'] / movies_df['words']\n",
    "\n",
    "moviedata_df = pandas.read_csv('meta_data7.csv', encoding='iso-8859-1')\n",
    "moviedata_df = moviedata_df.set_index('script_id')\n",
    "movies_df = movies_df.join(moviedata_df)\n",
    "movies_df['imdb_link'] = movies_df['imdb_id'].apply(lambda x: 'https://www.imdb.com/title/'+str(x))\n",
    "\n",
    "odf = pandas.read_csv('oscars.csv')\n",
    "odf = odf.rename(columns={'year': 'oscar_year'})\n",
    "\n",
    "movies_df = movies_df.merge(odf, how='outer', on='title')\n",
    "movies_df['pct_m'] = movies_df['pct_m'].fillna(0)\n",
    "movies_df['pct_f'] = movies_df['pct_f'].fillna(0)\n",
    "\n",
    "for yr in range(2009, 2018):\n",
    "    thisyr_averages_df = pandas.DataFrame(data=[['AVERAGE MOVIE', yr, movies_df[movies_df['year'] == yr]['pct_m'].mean(), movies_df[movies_df['year'] == yr]['pct_f'].mean(), yr]], columns=['title', 'year', 'pct_m', 'pct_f', 'oscar_year'])\n",
    "    movies_df = pandas.concat((movies_df, thisyr_averages_df), axis=0)\n",
    "\n",
    "movies_df = movies_df.sort_values(['oscar_year', 'pct_f'], ascending=False)\n",
    "\n",
    "print('Done')"
   ]
  },
  {
   "cell_type": "code",
   "execution_count": null,
   "metadata": {
    "collapsed": false
   },
   "outputs": [],
   "source": [
    "movies_df[movies_df['title'].apply(lambda x: 'Force' in x)]"
   ]
  },
  {
   "cell_type": "code",
   "execution_count": null,
   "metadata": {
    "collapsed": false,
    "scrolled": false
   },
   "outputs": [],
   "source": [
    "def make_formatter(x, pos):\n",
    "    return '{:.0%}'.format(abs(x))\n",
    "\n",
    "os.chdir('/home/idies/workspace/persistent/movies/')\n",
    "\n",
    "for yr in range(2009, 2018):\n",
    "#for yr in (2009, 2010, 2012, 2013, 2014):\n",
    "    fig, ax = plt.subplots()\n",
    "    thesemovies_df = movies_df[movies_df['oscar_year'] == yr]\n",
    "    X = np.arange(len(thesemovies_df))\n",
    "    ax.barh(X, -1*thesemovies_df['pct_f'], color = 'purple')\n",
    "    ax.barh(X, thesemovies_df['pct_m'], color = 'aqua')\n",
    "    ax.set_xlim(-1, 1)\n",
    "    ax.set_xlabel('Words spoken by gender (women L, men R)', fontsize=16)\n",
    "    \n",
    "    major_formattor = ticker.FuncFormatter(make_formatter)\n",
    "    ax.xaxis.set_major_formatter(major_formattor)\n",
    "    plt.xticks(fontsize=14)\n",
    "\n",
    "    ax.yaxis.set_major_locator(ticker.AutoLocator())\n",
    "    ax.yaxis.set_major_formatter(ticker.NullFormatter())\n",
    "    label_list = thesemovies_df['title'].tolist()\n",
    "    plt.title('{0:.0f} Oscar nominees (winner in bold)'.format(yr), fontsize=16)\n",
    "    i = 1\n",
    "    for thistitle in label_list:\n",
    "        if (thesemovies_df['winner'][thesemovies_df['title'] == thistitle].values[0] == 1):\n",
    "            plt.text(1.05, i-0.6, thistitle, fontsize=14, ha='left', weight='bold')\n",
    "        elif (thistitle == 'AVERAGE MOVIE'):\n",
    "            plt.text(1.05, i-0.6, thistitle, fontsize=14, ha='left', weight='bold', style='italic')\n",
    "        else:\n",
    "            plt.text(1.05, i-0.6, thistitle, fontsize=14, ha='left')\n",
    "        i = i + 1\n",
    "    thisfilename = 'movies{0:.0f}.svg'.format(yr)\n",
    "    fig.tight_layout()\n",
    "    plt.show()\n",
    "#    plt.savefig(thisfilename, format='svg')\n",
    "    \n",
    "    plt.close()\n",
    "    #print('Saved {0}'.format(thisfilename))\n",
    "print('Done')"
   ]
  },
  {
   "cell_type": "code",
   "execution_count": null,
   "metadata": {
    "collapsed": false
   },
   "outputs": [],
   "source": [
    "for yr in (2009, 2010, 2012, 2013, 2014):\n",
    "    thisyr_movies_df = movies_df[movies_df['oscar_year'] == yr]\n",
    "    print('{0:.0f}: average movie is {1:3.0%} dudes, nominees are {2:3.0%} dudes, winner is {3:3.0%} dudes'.format(yr, thisyr_movies_df[thisyr_movies_df['title'] == 'AVERAGE MOVIE']['pct_m'].mean(), thisyr_movies_df[thisyr_movies_df['winner'] == 0]['pct_m'].mean(), thisyr_movies_df[thisyr_movies_df['winner'] == 1]['pct_m'].mean()))\n",
    "    #    print(thisyr_movies_df[thisyr_movies_df['winner'] == 0].groupby('oscar_year', as_index=False)['pct_f'].mean())\n",
    "#    print(thisyr_movies_df[thisyr_movies_df['winner'] == 1].groupby('oscar_year', as_index=False)['pct_f'].mean())\n",
    "#print(movies_df[movies_df['winner'] == 1].groupby('year', as_index=False)['pct_f'].mean()['year'].values, movies_df[movies_df['winner'] == 1].groupby('pct_f', as_index=False)['pct_f'].mean()['pct_f'].values)"
   ]
  },
  {
   "cell_type": "code",
   "execution_count": null,
   "metadata": {
    "collapsed": true
   },
   "outputs": [],
   "source": []
  }
 ],
 "metadata": {
  "kernelspec": {
   "display_name": "Python 3",
   "language": "python",
   "name": "python3"
  },
  "language_info": {
   "codemirror_mode": {
    "name": "ipython",
    "version": 3
   },
   "file_extension": ".py",
   "mimetype": "text/x-python",
   "name": "python",
   "nbconvert_exporter": "python",
   "pygments_lexer": "ipython3",
   "version": "3.5.3"
  }
 },
 "nbformat": 4,
 "nbformat_minor": 0
}
