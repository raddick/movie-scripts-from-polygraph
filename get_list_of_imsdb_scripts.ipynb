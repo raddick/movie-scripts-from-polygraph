{
 "cells": [
  {
   "cell_type": "code",
   "execution_count": 1,
   "metadata": {
    "collapsed": false
   },
   "outputs": [
    {
     "name": "stdout",
     "output_type": "stream",
     "text": [
      "imported\n"
     ]
    }
   ],
   "source": [
    "import urllib\n",
    "from bs4 import BeautifulSoup as bs\n",
    "import pandas\n",
    "import numpy as np\n",
    "import os\n",
    "import json\n",
    "import io\n",
    "from pprint import pprint\n",
    "print('imported')"
   ]
  },
  {
   "cell_type": "code",
   "execution_count": 2,
   "metadata": {
    "collapsed": false
   },
   "outputs": [
    {
     "name": "stdout",
     "output_type": "stream",
     "text": [
      "ok\n"
     ]
    }
   ],
   "source": [
    "baseurl = 'http://www.imsdb.com'\n",
    "\n",
    "skiptitles = ['A.I.', 'Batman and Robin', 'Batman Forever', 'Batman Returns']\n",
    "skiptitles += ['Contact', 'Dark Knight, The', 'Donnie Darko', 'Executive Decision']\n",
    "skiptitles += ['Goodfellas', 'Harry Potter and the Chamber of Secrets']\n",
    "skiptitles += ['Harry Potter and the Deathly Hallows Part 1', 'Harry Potter and the Goblet of Fire']\n",
    "skiptitles += ['Harry Potter and the Half-Blood Prince', 'Harry Potter and the Sorcerer\\'s Stone']\n",
    "skiptitles += ['Lethal Weapon', 'Lethal Weapon 4', 'Matchstick Man']\n",
    "skiptitles += ['Outbreak', 'Troy', 'Unforgiven']\n",
    "#skiptitles\n",
    "print('ok')"
   ]
  },
  {
   "cell_type": "code",
   "execution_count": 3,
   "metadata": {
    "collapsed": false
   },
   "outputs": [
    {
     "name": "stdout",
     "output_type": "stream",
     "text": [
      "Done! Processed 1,171 titles.\n"
     ]
    }
   ],
   "source": [
    "theletters = ['0','A','B','C','D','E','F','G','H','I','J','K']\n",
    "theletters += ['L','M','N','O','P','Q','R','S','T','U','V','W','X','Y','Z']\n",
    "\n",
    "therawscripts = []\n",
    "\n",
    "for lett in theletters:\n",
    "    url = baseurl + '/' +'alphabetical/{0}'.format(lett)\n",
    "    page = urllib.request.urlopen(url).read()\n",
    "    soup = bs(page, \"html.parser\")\n",
    "    allp = soup.find_all('p')\n",
    "    for thisp in allp:\n",
    "        ascript = {}\n",
    "        thispagelink = thisp.find('a')\n",
    "        thislink = baseurl+urllib.parse.quote(thispagelink['href']).replace('%253f', '%3f')\n",
    "        ascript['scriptpagelink'] = thislink\n",
    "        ascript['title'] = thisp.text[0:thisp.text.find('(')].strip()\n",
    "        ascript['version'] = thisp.text[thisp.text.find('(')+1:thisp.text.find(')')].strip()\n",
    "        ascript['authors'] = thisp.text[thisp.text.find(')')+1:len(thisp.text)].strip()\n",
    "        ascript['authors'] = ascript['authors'][ascript['authors'].find('Written by')+10:len(ascript['authors'])].strip().split(',')\n",
    "        therawscripts.append(ascript)\n",
    "print('Done! Processed {0:,.0f} titles.'.format(len(therawscripts)))"
   ]
  },
  {
   "cell_type": "code",
   "execution_count": 4,
   "metadata": {
    "collapsed": false
   },
   "outputs": [
    {
     "name": "stdout",
     "output_type": "stream",
     "text": [
      "Processing title number 0...\n",
      "Processing title number 10...\n",
      "Processing title number 20...\n",
      "Eeyore is SKIPPING title 25: A.I.\n",
      "Processing title number 30...\n",
      "Processing title number 40...\n",
      "Processing title number 50...\n",
      "Processing title number 60...\n",
      "Processing title number 70...\n",
      "Processing title number 80...\n",
      "Processing title number 90...\n",
      "Processing title number 100...\n",
      "Processing title number 110...\n",
      "Processing title number 120...\n",
      "Processing title number 130...\n",
      "Eeyore is SKIPPING title 137: Batman and Robin\n",
      "Script not found for Batman Begins and Eeyore is SAD.\n",
      "Eeyore is SKIPPING title 139: Batman Forever\n",
      "Processing title number 140...\n",
      "Eeyore is SKIPPING title 140: Batman Returns\n",
      "Processing title number 150...\n",
      "Processing title number 160...\n",
      "Processing title number 170...\n",
      "Processing title number 180...\n",
      "Processing title number 190...\n",
      "Processing title number 200...\n",
      "Processing title number 210...\n",
      "Processing title number 220...\n",
      "Script not found for Casablanca and Eeyore is SAD.\n",
      "Processing title number 230...\n",
      "Processing title number 240...\n",
      "Processing title number 250...\n",
      "Processing title number 260...\n",
      "Processing title number 270...\n",
      "Eeyore is SKIPPING title 274: Contact\n",
      "Processing title number 280...\n",
      "Processing title number 290...\n",
      "Processing title number 300...\n",
      "Eeyore is SKIPPING title 304: Dark Knight, The\n",
      "Processing title number 310...\n",
      "Processing title number 320...\n",
      "Processing title number 330...\n",
      "Processing title number 340...\n",
      "Eeyore is SKIPPING title 341: Donnie Darko\n",
      "Processing title number 350...\n",
      "Processing title number 360...\n",
      "Processing title number 370...\n",
      "Processing title number 380...\n",
      "Eeyore is SKIPPING title 381: Executive Decision\n",
      "Script not found for Eyes Wide Shut and Eeyore is SAD.\n",
      "Processing title number 390...\n",
      "Processing title number 400...\n",
      "Processing title number 410...\n",
      "Processing title number 420...\n",
      "Processing title number 430...\n",
      "Script not found for Full Metal Jacket and Eeyore is SAD.\n",
      "Script not found for Fury and Eeyore is SAD.\n",
      "Processing title number 440...\n",
      "Processing title number 450...\n",
      "Processing title number 460...\n",
      "Processing title number 470...\n",
      "Eeyore is SKIPPING title 471: Goodfellas\n",
      "Processing title number 480...\n",
      "Processing title number 490...\n",
      "Eeyore is SKIPPING title 499: Harry Potter and the Chamber of Secrets\n",
      "Processing title number 500...\n",
      "Eeyore is SKIPPING title 500: Harry Potter and the Deathly Hallows Part 1\n",
      "Eeyore is SKIPPING title 501: Harry Potter and the Goblet of Fire\n",
      "Eeyore is SKIPPING title 502: Harry Potter and the Half-Blood Prince\n",
      "Script not found for Harry Potter and the Prisoner of Azkaban and Eeyore is SAD.\n",
      "Eeyore is SKIPPING title 504: Harry Potter and the Sorcerer's Stone\n",
      "Processing title number 510...\n",
      "Processing title number 520...\n",
      "Processing title number 530...\n",
      "Processing title number 540...\n",
      "Processing title number 550...\n",
      "Processing title number 560...\n",
      "Script not found for Innerspace, and no reviews, and Eeyore is SAD.\n",
      "Processing title number 570...\n",
      "Processing title number 580...\n",
      "Processing title number 590...\n",
      "Processing title number 600...\n",
      "Processing title number 610...\n",
      "Processing title number 620...\n",
      "Processing title number 630...\n",
      "Processing title number 640...\n",
      "Processing title number 650...\n",
      "Eeyore is SKIPPING title 650: Lethal Weapon\n",
      "Eeyore is SKIPPING title 651: Lethal Weapon 4\n",
      "Processing title number 660...\n",
      "Processing title number 670...\n",
      "Processing title number 680...\n",
      "Processing title number 690...\n",
      "Processing title number 700...\n",
      "Processing title number 710...\n",
      "Processing title number 720...\n",
      "Processing title number 730...\n",
      "Processing title number 740...\n",
      "Processing title number 750...\n",
      "Processing title number 760...\n",
      "Processing title number 770...\n",
      "Processing title number 780...\n",
      "Processing title number 790...\n",
      "Processing title number 800...\n",
      "Processing title number 810...\n",
      "Eeyore is SKIPPING title 810: Outbreak\n",
      "Processing title number 820...\n",
      "Processing title number 830...\n",
      "Processing title number 840...\n",
      "Processing title number 850...\n",
      "Processing title number 860...\n",
      "Processing title number 870...\n",
      "Processing title number 880...\n",
      "Processing title number 890...\n",
      "Processing title number 900...\n",
      "Processing title number 910...\n",
      "Processing title number 920...\n",
      "Processing title number 930...\n",
      "Processing title number 940...\n",
      "Processing title number 950...\n",
      "Processing title number 960...\n",
      "Processing title number 970...\n",
      "Processing title number 980...\n",
      "Processing title number 990...\n",
      "Processing title number 1,000...\n",
      "Processing title number 1,010...\n",
      "Processing title number 1,020...\n",
      "Processing title number 1,030...\n",
      "Processing title number 1,040...\n",
      "Processing title number 1,050...\n",
      "Processing title number 1,060...\n",
      "Processing title number 1,070...\n",
      "Processing title number 1,080...\n",
      "Eeyore is SKIPPING title 1,085: Troy\n",
      "Processing title number 1,090...\n",
      "Processing title number 1,100...\n",
      "Eeyore is SKIPPING title 1,100: Unforgiven\n",
      "Script not found for Valentine's Day and Eeyore is SAD.\n",
      "Processing title number 1,110...\n",
      "Processing title number 1,120...\n",
      "Processing title number 1,130...\n",
      "Processing title number 1,140...\n",
      "Processing title number 1,150...\n",
      "Processing title number 1,160...\n",
      "Processing title number 1,170...\n",
      "Done! Processed 1,171 titles.\n"
     ]
    }
   ],
   "source": [
    "cnt = 0\n",
    "notfound = []\n",
    "thescripts = []\n",
    "for onescript in therawscripts:\n",
    "    if (np.mod(cnt, 10) == 0):\n",
    "        print('Processing title number {0:,.0f}...'.format(cnt))\n",
    "    url = onescript['scriptpagelink']\n",
    "    page = urllib.request.urlopen(url).read()\n",
    "    soup = bs(page, \"html.parser\")\n",
    "    if (onescript['title'] in skiptitles):\n",
    "        print('Eeyore is SKIPPING title {0:,.0f}: {1:}'.format(cnt, onescript['title']))\n",
    "        notfound.append(onescript)\n",
    "    else:\n",
    "        try:\n",
    "            thatlink = baseurl+soup.find_all('p')[-1].find('a')['href']\n",
    "            onescript['scriptlink'] = thatlink\n",
    "            thescripts.append(onescript)\n",
    "        except TypeError:\n",
    "            print('Script not found for {0:} and Eeyore is SAD.'.format(onescript['title']))\n",
    "            notfound.append(onescript)\n",
    "        except IndexError:\n",
    "            print('Script not found for {0:}, and no reviews, and Eeyore is SAD.'.format(onescript['title']))\n",
    "            notfound.append(onescript)\n",
    "#        print('Title {0:,.0f}: {1:}, script link = {2:}'.format(cnt, onescript['title'], onescript['scriptlink']))\n",
    "    cnt = cnt + 1\n",
    "print('Done! Processed {0:,.0f} titles.'.format(len(therawscripts)))\n",
    "#pprint(notfound)"
   ]
  },
  {
   "cell_type": "code",
   "execution_count": 12,
   "metadata": {
    "collapsed": false
   },
   "outputs": [
    {
     "name": "stdout",
     "output_type": "stream",
     "text": [
      "OK, verified that all 27 movies in notfound truly do not have scripts on imsdb.com.\n"
     ]
    }
   ],
   "source": [
    "#for amovie in notfound:\n",
    "#    print(amovie['title'], ': ', amovie['scriptpagelink'], '(', amovie['version'], amovie['authors'],')\\n')\n",
    "\n",
    "print('OK, verified that all {0:,.0f} movies in notfound truly do not have scripts on imsdb.com.'.format(len(notfound)))"
   ]
  },
  {
   "cell_type": "code",
   "execution_count": 13,
   "metadata": {
    "collapsed": false
   },
   "outputs": [
    {
     "name": "stdout",
     "output_type": "stream",
     "text": [
      "done\n",
      "Output files written!\n"
     ]
    }
   ],
   "source": [
    "with io.open('scripts_notfound.json', 'w', encoding='utf-8') as f:\n",
    "    json.dump(notfound, f)\n",
    "print('done')\n",
    "\n",
    "with io.open('scripts_index.json', 'w', encoding='utf-8') as f:\n",
    "    json.dump(thescripts, f)\n",
    "    \n",
    "print('Output files written!')"
   ]
  },
  {
   "cell_type": "code",
   "execution_count": null,
   "metadata": {
    "collapsed": true
   },
   "outputs": [],
   "source": []
  }
 ],
 "metadata": {
  "kernelspec": {
   "display_name": "Python 3",
   "language": "python",
   "name": "python3"
  },
  "language_info": {
   "codemirror_mode": {
    "name": "ipython",
    "version": 3
   },
   "file_extension": ".py",
   "mimetype": "text/x-python",
   "name": "python",
   "nbconvert_exporter": "python",
   "pygments_lexer": "ipython3",
   "version": "3.5.3"
  }
 },
 "nbformat": 4,
 "nbformat_minor": 0
}
