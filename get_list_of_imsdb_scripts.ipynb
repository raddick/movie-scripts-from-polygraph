{
 "cells": [
  {
   "cell_type": "code",
   "execution_count": null,
   "metadata": {
    "collapsed": false
   },
   "outputs": [],
   "source": [
    "import urllib\n",
    "from bs4 import BeautifulSoup as bs\n",
    "import pandas\n",
    "import numpy as np\n",
    "import os\n",
    "import json\n",
    "import io\n",
    "from pprint import pprint\n",
    "print('imported')"
   ]
  },
  {
   "cell_type": "code",
   "execution_count": null,
   "metadata": {
    "collapsed": false
   },
   "outputs": [],
   "source": [
    "baseurl = 'http://www.imsdb.com'\n",
    "\n",
    "theletters = ['0','A','B','C','D','E','F','G','H','I','J','K']\n",
    "theletters += ['L','M','N','O','P','Q','R','S','T','U','V','W','X','Y','Z']\n",
    "\n",
    "therawscripts = []\n",
    "\n",
    "for lett in theletters:\n",
    "    url = baseurl + '/' +'alphabetical/{0}'.format(lett)\n",
    "    page = urllib.request.urlopen(url).read()\n",
    "    soup = bs(page, \"html.parser\")\n",
    "    allp = soup.find_all('p')\n",
    "    for thisp in allp:\n",
    "        ascript = {}\n",
    "        thispagelink = thisp.find('a')\n",
    "        thislink = baseurl+urllib.parse.quote(thispagelink['href'])        \n",
    "        ascript['scriptpagelink'] = thislink\n",
    "        ascript['title'] = thisp.text[0:thisp.text.find('(')].strip()\n",
    "        ascript['version'] = thisp.text[thisp.text.find('(')+1:thisp.text.find(')')].strip()\n",
    "        ascript['authors'] = thisp.text[thisp.text.find(')')+1:len(thisp.text)].strip()\n",
    "        ascript['authors'] = ascript['authors'][ascript['authors'].find('Written by')+10:len(ascript['authors'])].strip().split(',')\n",
    "        therawscripts.append(ascript)\n",
    "print('Done! Processed {0:,.0f} titles.'.format(len(therawscripts)))"
   ]
  },
  {
   "cell_type": "code",
   "execution_count": null,
   "metadata": {
    "collapsed": false
   },
   "outputs": [],
   "source": [
    "cnt = 0\n",
    "notfound = []\n",
    "thescripts = []\n",
    "for onescript in therawscripts:\n",
    "    if (np.mod(cnt, 10) == 0):\n",
    "        print('Processing title number {0:,.0f}...'.format(cnt))\n",
    "    url = onescript['scriptpagelink']\n",
    "    page = urllib.request.urlopen(url).read()\n",
    "    soup = bs(page, \"html.parser\")\n",
    "    skiptitles = ['A.I.']\n",
    "    if (onescript['title'] in skiptitles):\n",
    "        print('SKIPPING title {0:,.0f}: {1:}'.format(cnt, onescript['title']))\n",
    "        notfound.append(onescript)\n",
    "    else:\n",
    "        try:\n",
    "            thatlink = baseurl+soup.find_all('p')[-1].find('a')['href']\n",
    "            onescript['scriptlink'] = thatlink\n",
    "            thescripts.append(onescript)\n",
    "        except TypeError:\n",
    "            print('Script not found for {0:} and Eeyore is SAD.'.format(onescript['title']))\n",
    "            notfound.append(onescript)\n",
    "        except IndexError:\n",
    "            print('Script not found for {0:}, and no reviews, and Eeyore is SAD.'.format(onescript['title']))\n",
    "            notfound.append(onescript)\n",
    "#        print('Title {0:,.0f}: {1:}, script link = {2:}'.format(cnt, onescript['title'], onescript['scriptlink']))\n",
    "    cnt = cnt + 1\n",
    "print('Done! Processed {0:,.0f} titles.'.format(len(therawscripts)))\n",
    "#pprint(notfound)"
   ]
  },
  {
   "cell_type": "code",
   "execution_count": null,
   "metadata": {
    "collapsed": false
   },
   "outputs": [],
   "source": [
    "with io.open('scripts_notfound.json', 'w', encoding='utf-8') as f:\n",
    "    json.dump(notfound, f)\n",
    "print('done')\n",
    "\n",
    "with io.open('scripts.json', 'w', encoding='utf-8') as f:\n",
    "    json.dump(thescripts, f)\n",
    "print('done')"
   ]
  },
  {
   "cell_type": "code",
   "execution_count": null,
   "metadata": {
    "collapsed": false
   },
   "outputs": [],
   "source": [
    "with io.open('scripts.json', 'r', encoding='utf-8') as f:\n",
    "    z = json.load(f)\n",
    "print(len(z))"
   ]
  },
  {
   "cell_type": "code",
   "execution_count": null,
   "metadata": {
    "collapsed": true
   },
   "outputs": [],
   "source": []
  }
 ],
 "metadata": {
  "kernelspec": {
   "display_name": "Python 3",
   "language": "python",
   "name": "python3"
  },
  "language_info": {
   "codemirror_mode": {
    "name": "ipython",
    "version": 3
   },
   "file_extension": ".py",
   "mimetype": "text/x-python",
   "name": "python",
   "nbconvert_exporter": "python",
   "pygments_lexer": "ipython3",
   "version": "3.5.3"
  }
 },
 "nbformat": 4,
 "nbformat_minor": 0
}
