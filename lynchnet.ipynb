{
 "cells": [
  {
   "cell_type": "code",
   "execution_count": 1,
   "metadata": {
    "collapsed": false
   },
   "outputs": [
    {
     "name": "stdout",
     "output_type": "stream",
     "text": [
      "imported\n"
     ]
    }
   ],
   "source": [
    "import urllib\n",
    "from bs4 import BeautifulSoup as bs\n",
    "import pandas\n",
    "import numpy as np\n",
    "import os\n",
    "import json\n",
    "import io\n",
    "from pprint import pprint\n",
    "print('imported')"
   ]
  },
  {
   "cell_type": "code",
   "execution_count": 18,
   "metadata": {
    "collapsed": false
   },
   "outputs": [
    {
     "name": "stdout",
     "output_type": "stream",
     "text": [
      "Blue Velvet\n",
      "------------\n",
      "Blue Velvet\n",
      "http://lynchnet.com/bv/bvscript.html\n",
      "\n",
      "\n",
      "Twin Peaks:\n",
      "Pilot (Northwest Passage)\n",
      "Episode 1\n",
      "Episode 2\n",
      "Episode 3\n",
      "Episode 4\n",
      "Episode 5\n",
      "Episode 29\n",
      "\n",
      "------------\n",
      "'ResultSet' object has no attribute 'find_all'\n",
      "\n",
      "\n",
      "Fire Walk With Me\n",
      "------------\n",
      "Fire Walk With Me\n",
      "http://lynchnet.com/fwwm/fwwmscript.html\n",
      "\n",
      "\n",
      "Lost Highway\n",
      "------------\n",
      "Lost Highway\n",
      "http://lynchnet.com/lh/lhscript.html\n",
      "\n",
      "\n",
      "Mulholland Drive (TV pilot version)\n",
      "------------\n",
      "'ResultSet' object has no attribute 'find_all'\n",
      "\n",
      "\n",
      "There are two drafts of Ronnie Rocket available, one called Ronnie Rocket and an earlier version called Ronny RocketRonnie Rocket\n",
      "Ronny Rocket\n",
      "------------\n",
      "'ResultSet' object has no attribute 'find_all'\n",
      "\n",
      "\n",
      "One Saliva Bubble\n",
      "------------\n",
      "One Saliva Bubble\n",
      "http://lynchnet.com/osbscript.html\n",
      "\n",
      "\n",
      "Back to the main index\n",
      "------------\n",
      "main index\n",
      "http://lynchnet.com/index2.html\n",
      "\n",
      "\n"
     ]
    }
   ],
   "source": [
    "url = 'http://lynchnet.com/scripts.html'\n",
    "baseurl = 'http://lynchnet.com'\n",
    "page = urllib.request.urlopen(url)\n",
    "soup = bs(page, \"html.parser\")\n",
    "thepars = soup.find_all('p')\n",
    "for p in thepars:\n",
    "    print(p.text)\n",
    "    print('------------')\n",
    "    spans = p.find_all('span')\n",
    "    if (len(spans) > 0):\n",
    "#        print(spans)\n",
    "        try:\n",
    "            thisspanlinks = spans.find_all('a')\n",
    "            for thislink in thisspanlinks:\n",
    "                print(thislink.text)\n",
    "                print(baseurl+'/'+thislink['href'])\n",
    "        except AttributeError:\n",
    "            print('\\'ResultSet\\' object has no attribute \\'find_all\\'')\n",
    "    else:   \n",
    "        thisplinks = p.find_all('a')\n",
    "        for thislink in thisplinks:\n",
    "            print(thislink.text)\n",
    "            print(baseurl+'/'+thislink['href'])\n",
    "    print('\\n')"
   ]
  },
  {
   "cell_type": "code",
   "execution_count": null,
   "metadata": {
    "collapsed": true
   },
   "outputs": [],
   "source": []
  }
 ],
 "metadata": {
  "kernelspec": {
   "display_name": "Python 3",
   "language": "python",
   "name": "python3"
  },
  "language_info": {
   "codemirror_mode": {
    "name": "ipython",
    "version": 3
   },
   "file_extension": ".py",
   "mimetype": "text/x-python",
   "name": "python",
   "nbconvert_exporter": "python",
   "pygments_lexer": "ipython3",
   "version": "3.5.3"
  }
 },
 "nbformat": 4,
 "nbformat_minor": 0
}
