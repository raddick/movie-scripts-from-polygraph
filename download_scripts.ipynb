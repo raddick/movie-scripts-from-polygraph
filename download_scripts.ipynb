{
 "cells": [
  {
   "cell_type": "code",
   "execution_count": null,
   "metadata": {
    "collapsed": false
   },
   "outputs": [],
   "source": [
    "basedir = '/home/idies/workspace/persistent/movies/'\n",
    "import urllib\n",
    "from bs4 import BeautifulSoup as bs\n",
    "import pandas\n",
    "import numpy as np\n",
    "import os\n",
    "import json\n",
    "import io\n",
    "from pprint import pprint\n",
    "print('imported')"
   ]
  },
  {
   "cell_type": "code",
   "execution_count": null,
   "metadata": {
    "collapsed": true
   },
   "outputs": [],
   "source": [
    "with io.open(basedir+'scripts_index.json', 'r', encoding='utf-8') as f:\n",
    "    scripts = json.load(f)\n",
    "print('script index file loaded')\n",
    "with io.open(basedir+'scripts_notfound.json', 'r', encoding='utf-8') as f:\n",
    "    notfound = json.load(f)\n",
    "print('notfound scripts file loaded')"
   ]
  },
  {
   "cell_type": "code",
   "execution_count": null,
   "metadata": {
    "collapsed": false
   },
   "outputs": [],
   "source": [
    "cnt = 0\n",
    "\n",
    "for onescript in scripts:\n",
    "    print('Script number {0:,.0f}: {1:}'.format(cnt, onescript['title']))\n",
    "    url = onescript['scriptlink']\n",
    "    onescript['script_file_type'] = url.split('.')[-1]\n",
    "    \n",
    "    if (onescript['script_file_type'] == 'html'):\n",
    "        try:\n",
    "            page = urllib.request.urlopen(url).read()\n",
    "        except ValueError:\n",
    "            print('Eeyore can\\'t even read this page: {0:}'.format(onescript['scriptlink']))\n",
    "            notfound.append(onescript)\n",
    "        soup = bs(page, \"html.parser\")\n",
    "        try:\n",
    "            onescript['script_text'] = soup.find('pre').text\n",
    "        except AttributeError:\n",
    "            print('AttributeError on script {0:,.0f}: {1:}, Eeyore is sad at {2:}'.format(cnt, onescript['title'], onescript['scriptlink']))\n",
    "            notfound.append(onescript)\n",
    "    elif (onescript['script_file_type'] == 'pdf'):\n",
    "        print('Eeyore says it\\'s a PDF: {0:}'.format(onescript['scriptlink']))\n",
    "        theresponse = urllib.request.urlopen(url)\n",
    "        with open(basedir+'scripts/imsdb/{0:}.pdf'.format(onescript['title']), 'wb') as f:\n",
    "            f.write(theresponse.read()) \n",
    "            onescript['localfile'] = f.name\n",
    "    else:\n",
    "        print('Script {0:,.0f}: {1:} Eeyore is sadly adding to notfound.'.format(cnt, onescript['title']))\n",
    "        notfound.append(onescript)\n",
    "    cnt = cnt + 1\n",
    "print('Done!')"
   ]
  },
  {
   "cell_type": "code",
   "execution_count": null,
   "metadata": {
    "collapsed": false
   },
   "outputs": [],
   "source": [
    "os.chdir(basedir)\n",
    "with io.open('scripts_notfound_step2.json', 'w', encoding='utf-8') as f:\n",
    "    json.dump(notfound, f)\n",
    "    \n",
    "print('saved notfound output file')\n",
    "\n",
    "with io.open('scripts.json', 'w', encoding='utf-8') as f:\n",
    "    json.dump(scripts, f)\n",
    "\n",
    "print('saved scripts output file')"
   ]
  },
  {
   "cell_type": "code",
   "execution_count": null,
   "metadata": {
    "collapsed": false
   },
   "outputs": [],
   "source": [
    "with io.open('scripts_notfound.json', 'r', encoding='utf-8') as f:\n",
    "    nf = json.load(f)\n",
    "#pprint(nf[0])\n",
    "for onething in nf:\n",
    "    print(onething['title'], onething['scriptpagelink'],'\\n')"
   ]
  },
  {
   "cell_type": "code",
   "execution_count": null,
   "metadata": {
    "collapsed": false
   },
   "outputs": [],
   "source": [
    "with io.open('scripts.json', 'r', encoding='utf-8') as f:\n",
    "    scripts = json.load(f)\n",
    "print(len(scripts))"
   ]
  },
  {
   "cell_type": "code",
   "execution_count": null,
   "metadata": {
    "collapsed": true
   },
   "outputs": [],
   "source": []
  }
 ],
 "metadata": {
  "kernelspec": {
   "display_name": "Python 3",
   "language": "python",
   "name": "python3"
  },
  "language_info": {
   "codemirror_mode": {
    "name": "ipython",
    "version": 3
   },
   "file_extension": ".py",
   "mimetype": "text/x-python",
   "name": "python",
   "nbconvert_exporter": "python",
   "pygments_lexer": "ipython3",
   "version": "3.5.3"
  }
 },
 "nbformat": 4,
 "nbformat_minor": 0
}
