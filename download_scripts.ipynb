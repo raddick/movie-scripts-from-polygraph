{
 "cells": [
  {
   "cell_type": "code",
   "execution_count": null,
   "metadata": {
    "collapsed": false
   },
   "outputs": [],
   "source": [
    "basedir = '/home/idies/workspace/persistent/movies/'\n",
    "import urllib\n",
    "from bs4 import BeautifulSoup as bs\n",
    "import pandas\n",
    "import numpy as np\n",
    "import os\n",
    "import json\n",
    "import io\n",
    "from pprint import pprint\n",
    "print('imported')\n",
    "with io.open(basedir+'scripts.json', 'r', encoding='utf-8') as f:\n",
    "    scripts = json.load(f)\n",
    "print('script index file loaded')"
   ]
  },
  {
   "cell_type": "code",
   "execution_count": null,
   "metadata": {
    "collapsed": false
   },
   "outputs": [],
   "source": [
    "cnt = 0\n",
    "stillnotfound = []\n",
    "for onescript in scripts:\n",
    "    print('Script number {0:,.0f}: {1:}'.format(cnt, onescript['title']))\n",
    "    url = onescript['scriptlink']\n",
    "    onescript['script_file_type'] = url.split('.')[-1]\n",
    "    \n",
    "    if (onescript['script_file_type'] == 'html'):\n",
    "        try:\n",
    "            page = urllib.request.urlopen(url).read()\n",
    "        except ValueError:\n",
    "            print('Eeyore can\\'t even read this page: {0:}'.format(onescript['scriptlink']))\n",
    "            stillnotfound.append(onescript)\n",
    "        soup = bs(page, \"html.parser\")\n",
    "        try:\n",
    "            onescript['script_text'] = soup.find('pre').text\n",
    "        except AttributeError:\n",
    "            print('AttributeError on script {0:,.0f}: {1:}, Eeyore is sad at {2:}'.format(cnt, onescript['title'], onescript['scriptlink']))\n",
    "            stillnotfound.append(onescript)\n",
    "    elif (onescript['script_file_type'] == 'pdf'):\n",
    "        print('Eeyore says it\\'s a PDF: {0:}'.format(onescript['scriptlink']))\n",
    "        theresponse = urllib.request.urlopen(url)\n",
    "        with open(basedir+'scripts/imsdb/{0:}.pdf'.format(onescript['title']), 'wb') as f:\n",
    "            f.write(theresponse.read()) \n",
    "            onescript['localfile'] = f.name\n",
    "    else:\n",
    "        print('Script {0:,.0f}: {1:} Eeyore is sadly adding to stillnotfound.'.format(cnt, onescript['title']))\n",
    "        stillnotfound.append(onescript)\n",
    "    cnt = cnt + 1\n",
    "print('Done!')"
   ]
  },
  {
   "cell_type": "code",
   "execution_count": null,
   "metadata": {
    "collapsed": false
   },
   "outputs": [],
   "source": [
    "os.chdir(basedir)\n",
    "with io.open('stillnotfound.json', 'w', encoding='utf-8') as f:\n",
    "    json.dump(stillnotfound, f)\n",
    "    \n",
    "print('saved stillnotfound')\n",
    "\n",
    "with io.open('scripts_with_scripts.json', 'w', encoding='utf-8') as f:\n",
    "    json.dump(scripts, f)\n",
    "\n",
    "print('saved scripts_with_scripts')"
   ]
  },
  {
   "cell_type": "code",
   "execution_count": null,
   "metadata": {
    "collapsed": false
   },
   "outputs": [],
   "source": [
    "with io.open('scripts_with_scripts.json', 'r', encoding='utf-8') as f:\n",
    "    zzzzz = json.load(f)\n",
    "print('l')"
   ]
  },
  {
   "cell_type": "code",
   "execution_count": null,
   "metadata": {
    "collapsed": false
   },
   "outputs": [],
   "source": [
    "print(len(zzzzz))"
   ]
  },
  {
   "cell_type": "code",
   "execution_count": null,
   "metadata": {
    "collapsed": true
   },
   "outputs": [],
   "source": []
  }
 ],
 "metadata": {
  "kernelspec": {
   "display_name": "Python 3",
   "language": "python",
   "name": "python3"
  },
  "language_info": {
   "codemirror_mode": {
    "name": "ipython",
    "version": 3
   },
   "file_extension": ".py",
   "mimetype": "text/x-python",
   "name": "python",
   "nbconvert_exporter": "python",
   "pygments_lexer": "ipython3",
   "version": "3.5.3"
  }
 },
 "nbformat": 4,
 "nbformat_minor": 0
}
