{
 "cells": [
  {
   "cell_type": "code",
   "execution_count": null,
   "metadata": {
    "collapsed": true
   },
   "outputs": [],
   "source": [
    "import json\n",
    "import io\n",
    "from pprint import pprint\n",
    "import urllib"
   ]
  },
  {
   "cell_type": "code",
   "execution_count": null,
   "metadata": {
    "collapsed": false
   },
   "outputs": [],
   "source": [
    "print(scripts[0]['title'])\n",
    "print(scripts[0]['version'])\n",
    "print(scripts[0]['authors'])"
   ]
  },
  {
   "cell_type": "code",
   "execution_count": null,
   "metadata": {
    "collapsed": false
   },
   "outputs": [],
   "source": [
    "with io.open('scripts.json', 'r', encoding='utf-8') as f:\n",
    "    scripts = json.load(f)\n",
    "print('loaded scripts file')\n",
    "\n",
    "omdb_api_key = '949d45c1'\n",
    "for i in range(0, len(scripts)):\n",
    "    t = urllib.parse.quote_plus(scripts[i]['title'])\n",
    "    url = 'http://www.omdbapi.com/?t='+t+'&apikey='+omdb_api_key\n",
    "    response = urllib.request.urlopen(url)\n",
    "    movie_info_json = json.loads(response.read().decode())\n",
    "    for k,v in movie_info_json.items():\n",
    "        if (k == 'Title'):\n",
    "            scripts[i]['title_omdb'] = v\n",
    "        else:\n",
    "            scripts[i][k.lower()] = v\n",
    "    try:\n",
    "        scripts[i]['actors'] = scripts[i]['actors'].split(',')\n",
    "    except KeyError:\n",
    "        pass\n",
    "    try:\n",
    "        scripts[i]['genre'] = scripts[i]['genre'].split(',')\n",
    "    except KeyError:\n",
    "        pass\n",
    "    try:\n",
    "        scripts[i]['language'] = scripts[i]['language'].split(',')\n",
    "    except KeyError:\n",
    "        pass\n",
    "pprint(scripts[0:5])"
   ]
  },
  {
   "cell_type": "code",
   "execution_count": null,
   "metadata": {
    "collapsed": true
   },
   "outputs": [],
   "source": []
  }
 ],
 "metadata": {
  "kernelspec": {
   "display_name": "Python 3",
   "language": "python",
   "name": "python3"
  },
  "language_info": {
   "codemirror_mode": {
    "name": "ipython",
    "version": 3
   },
   "file_extension": ".py",
   "mimetype": "text/x-python",
   "name": "python",
   "nbconvert_exporter": "python",
   "pygments_lexer": "ipython3",
   "version": "3.5.3"
  }
 },
 "nbformat": 4,
 "nbformat_minor": 0
}
